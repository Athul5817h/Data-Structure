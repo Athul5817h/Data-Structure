{
 "cells": [
  {
   "cell_type": "code",
   "execution_count": 1,
   "id": "39076f6e-0243-4ad9-994e-95387d06e11f",
   "metadata": {},
   "outputs": [],
   "source": [
    "#1.Discuss string slicing and provide example"
   ]
  },
  {
   "cell_type": "markdown",
   "id": "a0927683-a5ea-448c-9922-d8647a3772ac",
   "metadata": {},
   "source": [
    "String slicing in Python is a powerful feature that allows you to access a subset of characters from a string. This is done using the slicing operator [:], which takes a starting index, an ending index, and an optional step value."
   ]
  },
  {
   "cell_type": "code",
   "execution_count": 4,
   "id": "40e1c5dc-28a5-4543-afb6-a0b498ee2847",
   "metadata": {},
   "outputs": [
    {
     "data": {
      "text/plain": [
       "'xam'"
      ]
     },
     "execution_count": 4,
     "metadata": {},
     "output_type": "execute_result"
    }
   ],
   "source": [
    "#example\n",
    "s = \"example for string slice\"\n",
    "s[1:4]"
   ]
  },
  {
   "cell_type": "code",
   "execution_count": 5,
   "id": "05a6cec3-5d45-42cb-a536-2eaaf47bd0d1",
   "metadata": {},
   "outputs": [
    {
     "data": {
      "text/plain": [
       "'ice'"
      ]
     },
     "execution_count": 5,
     "metadata": {},
     "output_type": "execute_result"
    }
   ],
   "source": [
    "s[-3:] # to get last three"
   ]
  },
  {
   "cell_type": "code",
   "execution_count": 6,
   "id": "387955bd-a382-47da-ab2a-5820ff0daf60",
   "metadata": {},
   "outputs": [
    {
     "data": {
      "text/plain": [
       "'example for string sl'"
      ]
     },
     "execution_count": 6,
     "metadata": {},
     "output_type": "execute_result"
    }
   ],
   "source": [
    "s[:-3] # to get other than last three"
   ]
  },
  {
   "cell_type": "code",
   "execution_count": 7,
   "id": "b717c9af-ad58-4f73-9a44-4218d68f4b12",
   "metadata": {},
   "outputs": [],
   "source": [
    "#2. Explain the key features of lists in python"
   ]
  },
  {
   "cell_type": "code",
   "execution_count": 11,
   "id": "0aa8e8b0-5bcb-43cc-8fb9-0c1487b76599",
   "metadata": {},
   "outputs": [
    {
     "data": {
      "text/plain": [
       "[1, 'a', 1.3]"
      ]
     },
     "execution_count": 11,
     "metadata": {},
     "output_type": "execute_result"
    }
   ],
   "source": [
    "#list>> you can store anything in the list >> can store heterogenous data\n",
    "#list is an ordered collection of elements that can of any data type\n",
    "#list are mutable\n",
    "#example>>\n",
    "ls = [ ]\n",
    "ls.append(1)# mutablility\n",
    "ls.append(\"a\")\n",
    "ls.append(1.3)\n",
    "ls\n"
   ]
  },
  {
   "cell_type": "code",
   "execution_count": 12,
   "id": "8add1634-2d9d-49d8-adb7-ca57143007aa",
   "metadata": {},
   "outputs": [],
   "source": [
    "ls[0]=\"Apple\""
   ]
  },
  {
   "cell_type": "code",
   "execution_count": 13,
   "id": "c7715222-39be-4c6e-9c50-003b1bd56a92",
   "metadata": {},
   "outputs": [
    {
     "data": {
      "text/plain": [
       "['Apple', 'a', 1.3]"
      ]
     },
     "execution_count": 13,
     "metadata": {},
     "output_type": "execute_result"
    }
   ],
   "source": [
    "ls"
   ]
  },
  {
   "cell_type": "code",
   "execution_count": 15,
   "id": "7939cc0d-926a-41e7-85dd-68843ee6e991",
   "metadata": {},
   "outputs": [
    {
     "data": {
      "text/plain": [
       "'a'"
      ]
     },
     "execution_count": 15,
     "metadata": {},
     "output_type": "execute_result"
    }
   ],
   "source": [
    "ls[1]\n"
   ]
  },
  {
   "cell_type": "code",
   "execution_count": 16,
   "id": "f068bb3e-951e-4869-8c78-92ba28684000",
   "metadata": {},
   "outputs": [],
   "source": [
    "#3 . Describe how to access,modify, and delete elements in a list with examples"
   ]
  },
  {
   "cell_type": "code",
   "execution_count": 17,
   "id": "9554fb3e-3cbb-41f1-9ebe-fad87cf369d5",
   "metadata": {},
   "outputs": [
    {
     "data": {
      "text/plain": [
       "'orange'"
      ]
     },
     "execution_count": 17,
     "metadata": {},
     "output_type": "execute_result"
    }
   ],
   "source": [
    "list1 = [\"Apple\",\"orange\",\"grapes\"]\n",
    "#access\n",
    "list1[1]"
   ]
  },
  {
   "cell_type": "code",
   "execution_count": 18,
   "id": "3f12b055-f465-4ca5-82be-7639256110eb",
   "metadata": {},
   "outputs": [
    {
     "data": {
      "text/plain": [
       "['Apple', 'banana', 'grapes']"
      ]
     },
     "execution_count": 18,
     "metadata": {},
     "output_type": "execute_result"
    }
   ],
   "source": [
    "#modify\n",
    "list1[1]=\"banana\"\n",
    "list1"
   ]
  },
  {
   "cell_type": "code",
   "execution_count": 19,
   "id": "94e6e095-56a7-4a3d-ab37-0f5d017ab86f",
   "metadata": {},
   "outputs": [
    {
     "data": {
      "text/plain": [
       "['Apple', 'grapes']"
      ]
     },
     "execution_count": 19,
     "metadata": {},
     "output_type": "execute_result"
    }
   ],
   "source": [
    "#delete\n",
    "list1.remove(\"banana\")\n",
    "list1"
   ]
  },
  {
   "cell_type": "code",
   "execution_count": 20,
   "id": "a674c1c0-7896-444a-bb33-2f2591e4da0a",
   "metadata": {},
   "outputs": [],
   "source": [
    "#4.compare and contrast tuples and list with examples"
   ]
  },
  {
   "cell_type": "markdown",
   "id": "f0e5b348-726a-407c-b6be-0e8c923b8fc1",
   "metadata": {},
   "source": [
    "use lists when  need a dynamic, mutable collection, and use tuples when  need a fixed, immutable collection for better performance and integrity."
   ]
  },
  {
   "cell_type": "code",
   "execution_count": 24,
   "id": "849803e0-c0ab-43a4-b6e6-16fd5b7119e3",
   "metadata": {},
   "outputs": [
    {
     "data": {
      "text/plain": [
       "['d', 'b', 'C']"
      ]
     },
     "execution_count": 24,
     "metadata": {},
     "output_type": "execute_result"
    }
   ],
   "source": [
    "# mutable\n",
    "list2 = [\"a\",\"b\",\"C\"]\n",
    "list2.insert(1,\"d\")\n",
    "list2.pop(0)\n",
    "list2\n"
   ]
  },
  {
   "cell_type": "code",
   "execution_count": 25,
   "id": "38777815-ae61-4d9c-9cb3-76ed5f17ec1d",
   "metadata": {},
   "outputs": [
    {
     "ename": "AttributeError",
     "evalue": "'tuple' object has no attribute 'append'",
     "output_type": "error",
     "traceback": [
      "\u001b[1;31m---------------------------------------------------------------------------\u001b[0m",
      "\u001b[1;31mAttributeError\u001b[0m                            Traceback (most recent call last)",
      "Cell \u001b[1;32mIn[25], line 2\u001b[0m\n\u001b[0;32m      1\u001b[0m tup\u001b[38;5;241m=\u001b[39m(\u001b[38;5;241m1\u001b[39m,\u001b[38;5;124m\"\u001b[39m\u001b[38;5;124ma\u001b[39m\u001b[38;5;124m\"\u001b[39m,\u001b[38;5;241m3\u001b[39m)\n\u001b[1;32m----> 2\u001b[0m \u001b[43mtup\u001b[49m\u001b[38;5;241;43m.\u001b[39;49m\u001b[43mappend\u001b[49m(\u001b[38;5;241m3\u001b[39m)\n\u001b[0;32m      3\u001b[0m tup\n",
      "\u001b[1;31mAttributeError\u001b[0m: 'tuple' object has no attribute 'append'"
     ]
    }
   ],
   "source": [
    "tup=(1,\"a\",3)\n",
    "tup.append(3)\n",
    "tup"
   ]
  },
  {
   "cell_type": "code",
   "execution_count": 26,
   "id": "fd9de073-4da3-4dc7-89d8-8aa98d1e0297",
   "metadata": {},
   "outputs": [],
   "source": [
    "#5.Describe the key features of sets and provide examples of their use "
   ]
  },
  {
   "cell_type": "markdown",
   "id": "13ef9832-aea2-4fc8-8674-08033eccf460",
   "metadata": {},
   "source": [
    "Sets in Python are powerful tools for managing collections of unique elements. They provide efficient operations for membership testing and support various mathematical operations"
   ]
  },
  {
   "cell_type": "code",
   "execution_count": 28,
   "id": "a089adb5-8fbc-46f2-93c0-aa8650e7e508",
   "metadata": {},
   "outputs": [
    {
     "data": {
      "text/plain": [
       "{'Apple', 'Potato', 'Pumpkin', 'carrot', 'grapes', 'orange'}"
      ]
     },
     "execution_count": 28,
     "metadata": {},
     "output_type": "execute_result"
    }
   ],
   "source": [
    "#get the vegetable and fruits in one set\n",
    "fruits = {\"Apple\",\"orange\",\"grapes\"}\n",
    "vegetables = {\"Potato\", \"Pumpkin\", \"carrot\"}\n",
    "veg_fruits = fruits | vegetables\n",
    "veg_fruits"
   ]
  },
  {
   "cell_type": "code",
   "execution_count": 29,
   "id": "5f843d37-4ef3-4e0d-81b4-cc2b9b4aa27c",
   "metadata": {},
   "outputs": [
    {
     "data": {
      "text/plain": [
       "('maths', 'english', 'chemistry', 'physics')"
      ]
     },
     "execution_count": 29,
     "metadata": {},
     "output_type": "execute_result"
    }
   ],
   "source": [
    "#6 Discuss the use case of tuples and sets in python programming\n",
    "# tuples>> class subjects\n",
    "subjects = ('maths', 'english', 'chemistry', 'physics')\n",
    "subjects"
   ]
  },
  {
   "cell_type": "code",
   "execution_count": 3,
   "id": "fc7c68c7-26f6-48a6-a78e-20453d1cbd13",
   "metadata": {},
   "outputs": [
    {
     "data": {
      "text/plain": [
       "{'maths', 'physics'}"
      ]
     },
     "execution_count": 3,
     "metadata": {},
     "output_type": "execute_result"
    }
   ],
   "source": [
    "#find the common subject from students\n",
    "\n",
    "sub1 = {'maths', 'english', 'chemistry', 'physics'}\n",
    "sub2 = {'AI', 'ML', 'maths','physics'}\n",
    "sub1 & sub2"
   ]
  },
  {
   "cell_type": "code",
   "execution_count": 4,
   "id": "ea52b7da-1deb-4c2f-a689-6ff36b8f9b29",
   "metadata": {},
   "outputs": [],
   "source": [
    "# 7 Describes how to add , modify, and delete items in a dictionary with examples"
   ]
  },
  {
   "cell_type": "code",
   "execution_count": 6,
   "id": "ec9adf49-b045-407b-b6dc-bad0c6239af7",
   "metadata": {},
   "outputs": [
    {
     "data": {
      "text/plain": [
       "{'names': 'Athul', 'age': 23}"
      ]
     },
     "execution_count": 6,
     "metadata": {},
     "output_type": "execute_result"
    }
   ],
   "source": [
    "#add\n",
    "student_details = {}\n",
    "student_details[\"names\"] = \"Athul\"\n",
    "student_details.update({\"age\":23})\n",
    "student_details"
   ]
  },
  {
   "cell_type": "code",
   "execution_count": 14,
   "id": "786327df-d149-427c-b04e-1ce890120e9f",
   "metadata": {},
   "outputs": [
    {
     "data": {
      "text/plain": [
       "{'names': 'Athul', 'age': 22}"
      ]
     },
     "execution_count": 14,
     "metadata": {},
     "output_type": "execute_result"
    }
   ],
   "source": [
    "#modify\n",
    "student_details[\"age\"] = 22\n",
    "student_details"
   ]
  },
  {
   "cell_type": "code",
   "execution_count": 15,
   "id": "f4e2cb5f-23c1-491c-8403-fb603e03039c",
   "metadata": {},
   "outputs": [
    {
     "data": {
      "text/plain": [
       "{'names': 'Athul', 'age': 22}"
      ]
     },
     "execution_count": 15,
     "metadata": {},
     "output_type": "execute_result"
    }
   ],
   "source": [
    "student_details"
   ]
  },
  {
   "cell_type": "code",
   "execution_count": 16,
   "id": "63f9d090-2b02-4723-9186-ff303fe1897a",
   "metadata": {},
   "outputs": [
    {
     "data": {
      "text/plain": [
       "{'names': 'Athul'}"
      ]
     },
     "execution_count": 16,
     "metadata": {},
     "output_type": "execute_result"
    }
   ],
   "source": [
    "#delete\n",
    "student_details.pop(\"age\")\n",
    "student_details"
   ]
  },
  {
   "cell_type": "code",
   "execution_count": 17,
   "id": "d3363e29-c65f-46d5-a2ee-0d0480acad84",
   "metadata": {},
   "outputs": [],
   "source": [
    "#8 discuss the importance of dictionary keys being immutable and provide examples"
   ]
  },
  {
   "cell_type": "markdown",
   "id": "4685babf-f42c-4366-afc1-08302340fdbe",
   "metadata": {},
   "source": [
    "The immutability of dictionary keys in Python is crucial for ensuring consistent, efficient, and reliable dictionary operations. Immutable keys guarantee that the hash values remain constant, allowing for predictable and stable data retrieval"
   ]
  },
  {
   "cell_type": "code",
   "execution_count": 21,
   "id": "324116a5-2ef7-4bb9-8a45-5cbb0e06c958",
   "metadata": {},
   "outputs": [
    {
     "data": {
      "text/plain": [
       "{'name': 'Akhil', 'Age': 12, 'Roll': 46}"
      ]
     },
     "execution_count": 21,
     "metadata": {},
     "output_type": "execute_result"
    }
   ],
   "source": [
    "student = {\"name\":\"Atul\", \"Age\" : 12, \"Roll\":46, \"name\":\"Akhil\"}\n",
    "student"
   ]
  },
  {
   "cell_type": "code",
   "execution_count": 19,
   "id": "309880b9-faa7-406c-bd7d-f89d243cee39",
   "metadata": {},
   "outputs": [],
   "source": [
    "student[\"name\"] = \"Arjun\""
   ]
  },
  {
   "cell_type": "code",
   "execution_count": 22,
   "id": "47da79f9-fdd5-4dc1-ab7c-897118de7287",
   "metadata": {},
   "outputs": [
    {
     "data": {
      "text/plain": [
       "{'name': 'Akhil', 'Age': 12, 'Roll': 46}"
      ]
     },
     "execution_count": 22,
     "metadata": {},
     "output_type": "execute_result"
    }
   ],
   "source": [
    "student"
   ]
  },
  {
   "cell_type": "code",
   "execution_count": null,
   "id": "4a96a931-a420-4227-8915-f10573979f48",
   "metadata": {},
   "outputs": [],
   "source": []
  },
  {
   "cell_type": "code",
   "execution_count": null,
   "id": "941623b2-3e9d-4678-a29f-1189bc6cd084",
   "metadata": {},
   "outputs": [],
   "source": []
  }
 ],
 "metadata": {
  "kernelspec": {
   "display_name": "Python 3 (ipykernel)",
   "language": "python",
   "name": "python3"
  },
  "language_info": {
   "codemirror_mode": {
    "name": "ipython",
    "version": 3
   },
   "file_extension": ".py",
   "mimetype": "text/x-python",
   "name": "python",
   "nbconvert_exporter": "python",
   "pygments_lexer": "ipython3",
   "version": "3.10.0"
  }
 },
 "nbformat": 4,
 "nbformat_minor": 5
}
